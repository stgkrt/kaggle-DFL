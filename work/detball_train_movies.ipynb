{
 "cells": [
  {
   "cell_type": "markdown",
   "metadata": {},
   "source": [
    "# YOLOv5 ball detection\n",
    "### References\n",
    "\n",
    "* YOLOv5 repository - https://github.com/ultralytics/yolov5\n",
    "* https://www.kaggle.com/code/eneszvo/yolov5-helmet-detection-train-and-inference"
   ]
  },
  {
   "cell_type": "code",
   "execution_count": 10,
   "metadata": {},
   "outputs": [
    {
     "name": "stdout",
     "output_type": "stream",
     "text": [
      "Wed Sep  7 09:14:37 2022       \n",
      "+-----------------------------------------------------------------------------+\n",
      "| NVIDIA-SMI 515.65.01    Driver Version: 515.65.01    CUDA Version: 11.7     |\n",
      "|-------------------------------+----------------------+----------------------+\n",
      "| GPU  Name        Persistence-M| Bus-Id        Disp.A | Volatile Uncorr. ECC |\n",
      "| Fan  Temp  Perf  Pwr:Usage/Cap|         Memory-Usage | GPU-Util  Compute M. |\n",
      "|                               |                      |               MIG M. |\n",
      "|===============================+======================+======================|\n",
      "|   0  NVIDIA GeForce ...  On   | 00000000:01:00.0  On |                  N/A |\n",
      "|  0%   52C    P8    37W / 350W |    650MiB / 24576MiB |     29%      Default |\n",
      "|                               |                      |                  N/A |\n",
      "+-------------------------------+----------------------+----------------------+\n",
      "                                                                               \n",
      "+-----------------------------------------------------------------------------+\n",
      "| Processes:                                                                  |\n",
      "|  GPU   GI   CI        PID   Type   Process name                  GPU Memory |\n",
      "|        ID   ID                                                   Usage      |\n",
      "|=============================================================================|\n",
      "+-----------------------------------------------------------------------------+\n"
     ]
    }
   ],
   "source": [
    "!nvidia-smi"
   ]
  },
  {
   "cell_type": "code",
   "execution_count": 11,
   "metadata": {},
   "outputs": [
    {
     "name": "stdout",
     "output_type": "stream",
     "text": [
      "Setup complete. Using torch 1.10.2+cu113 (NVIDIA GeForce RTX 3090)\n"
     ]
    }
   ],
   "source": [
    "import torch\n",
    "print(f\"Setup complete. Using torch {torch.__version__} ({torch.cuda.get_device_properties(0).name if torch.cuda.is_available() else 'CPU'})\")"
   ]
  },
  {
   "cell_type": "code",
   "execution_count": 12,
   "metadata": {},
   "outputs": [],
   "source": [
    "import os\n",
    "import gc\n",
    "import cv2\n",
    "import numpy as np\n",
    "import pandas as pd\n",
    "from tqdm import tqdm\n",
    "from shutil import copyfile\n",
    "import matplotlib.pyplot as plt\n",
    "from sklearn.model_selection import train_test_split\n",
    "\n",
    "import subprocess\n",
    "\n",
    "import glob"
   ]
  },
  {
   "cell_type": "code",
   "execution_count": 13,
   "metadata": {},
   "outputs": [],
   "source": [
    "class CFG:\n",
    "    TRAIN_DIR = \"/workdir/work/input/train\"\n",
    "    TEST_DIR = \"/workdir/work/input/test\"\n",
    "\n",
    "    EXP_NAME = \"TRAIN_MOVIES\"\n",
    "    IMG_SIZE = 1200\n",
    "\n",
    "    YOLO_PATH = \"/workdir/work/yolov5\"\n",
    "    MODEL_PATH = \"yolov5l6_trained_600images.pt\"# in yolov5 folder"
   ]
  },
  {
   "cell_type": "code",
   "execution_count": 14,
   "metadata": {},
   "outputs": [
    {
     "name": "stdout",
     "output_type": "stream",
     "text": [
      "['/workdir/work/input/train/3c993bd2_0.mp4', '/workdir/work/input/train/3c993bd2_1.mp4', '/workdir/work/input/train/ecf251d4_0.mp4', '/workdir/work/input/train/35bd9041_0.mp4', '/workdir/work/input/train/35bd9041_1.mp4', '/workdir/work/input/train/cfbe2e94_1.mp4', '/workdir/work/input/train/4ffd5986_0.mp4', '/workdir/work/input/train/9a97dae4_1.mp4', '/workdir/work/input/train/1606b0e6_0.mp4', '/workdir/work/input/train/cfbe2e94_0.mp4', '/workdir/work/input/train/407c5a9e_1.mp4', '/workdir/work/input/train/1606b0e6_1.mp4']\n"
     ]
    }
   ],
   "source": [
    "train_movies = glob.glob(f\"{CFG.TRAIN_DIR}/*.mp4\")\n",
    "print(train_movies)"
   ]
  },
  {
   "cell_type": "code",
   "execution_count": 15,
   "metadata": {},
   "outputs": [
    {
     "name": "stdout",
     "output_type": "stream",
     "text": [
      "/workdir/work/yolov5\n"
     ]
    }
   ],
   "source": [
    "%cd {CFG.YOLO_PATH}"
   ]
  },
  {
   "cell_type": "code",
   "execution_count": 17,
   "metadata": {
    "scrolled": true,
    "tags": []
   },
   "outputs": [
    {
     "name": "stdout",
     "output_type": "stream",
     "text": [
      "\u001b[34m\u001b[1mdetect_edit: \u001b[0mweights=['yolov5l6_trained_600images.pt'], source=/workdir/work/input/train/3c993bd2_0.mp4, data=data/coco128.yaml, imgsz=[1200, 1200], conf_thres=0.25, iou_thres=0.45, max_det=1000, device=, view_img=False, save_txt=True, save_conf=True, save_crop=False, nosave=False, classes=None, agnostic_nms=False, augment=False, visualize=False, update=False, project=TRAIN_MOVIES, name=3c993bd2_0, exist_ok=False, line_thickness=3, hide_labels=False, hide_conf=False, half=False, dnn=False\n",
      "fatal: unsafe repository ('/workdir/work/yolov5' is owned by someone else)\n",
      "To add an exception for this directory, call:\n",
      "\n",
      "\tgit config --global --add safe.directory /workdir/work/yolov5\n",
      "YOLOv5 🚀 2022-9-4 Python-3.7.12 torch-1.10.2+cu113 CUDA:0 (NVIDIA GeForce RTX 3090, 24260MiB)\n",
      "\n"
     ]
    }
   ],
   "source": [
    "for idx in range(len(train_movies)):\n",
    "    movie_id = train_movies[idx][26:-4]\n",
    "    \n",
    "    !python detect_edit.py --img {CFG.IMG_SIZE} \\\n",
    "                            --weights {CFG.MODEL_PATH} \\\n",
    "                            --source {train_movies[idx]} \\\n",
    "                            --project {CFG.EXP_NAME} \\\n",
    "                            --name {movie_id} \\\n",
    "                            --save-txt \\\n",
    "                            --save-conf\n",
    "    "
   ]
  },
  {
   "cell_type": "code",
   "execution_count": null,
   "metadata": {},
   "outputs": [],
   "source": []
  }
 ],
 "metadata": {
  "kernelspec": {
   "display_name": "Python 3 (ipykernel)",
   "language": "python",
   "name": "python3"
  },
  "language_info": {
   "codemirror_mode": {
    "name": "ipython",
    "version": 3
   },
   "file_extension": ".py",
   "mimetype": "text/x-python",
   "name": "python",
   "nbconvert_exporter": "python",
   "pygments_lexer": "ipython3",
   "version": "3.7.12"
  }
 },
 "nbformat": 4,
 "nbformat_minor": 4
}
