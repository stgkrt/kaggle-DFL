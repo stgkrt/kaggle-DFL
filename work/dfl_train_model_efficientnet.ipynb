{
 "cells": [
  {
   "cell_type": "markdown",
   "metadata": {},
   "source": [
    "# DFL benchmark - training\n",
    "This is a simple benchmark script for DFL.  \n",
    "It classifies each frame image in the video into 4 classes（'background','challenge','play','throwin'） \n",
    "It does not use temporal information, so it may not be competitive on its own for this competition, but it could be used as a feature extractor for more advanced models."
   ]
  },
  {
   "cell_type": "code",
   "execution_count": 1,
   "metadata": {},
   "outputs": [
    {
     "name": "stdout",
     "output_type": "stream",
     "text": [
      "Tue Sep 13 06:41:04 2022       \n",
      "+-----------------------------------------------------------------------------+\n",
      "| NVIDIA-SMI 515.65.01    Driver Version: 515.65.01    CUDA Version: 11.7     |\n",
      "|-------------------------------+----------------------+----------------------+\n",
      "| GPU  Name        Persistence-M| Bus-Id        Disp.A | Volatile Uncorr. ECC |\n",
      "| Fan  Temp  Perf  Pwr:Usage/Cap|         Memory-Usage | GPU-Util  Compute M. |\n",
      "|                               |                      |               MIG M. |\n",
      "|===============================+======================+======================|\n",
      "|   0  NVIDIA GeForce ...  On   | 00000000:01:00.0  On |                  N/A |\n",
      "| 44%   52C    P8    37W / 350W |   8295MiB / 24576MiB |     27%      Default |\n",
      "|                               |                      |                  N/A |\n",
      "+-------------------------------+----------------------+----------------------+\n",
      "                                                                               \n",
      "+-----------------------------------------------------------------------------+\n",
      "| Processes:                                                                  |\n",
      "|  GPU   GI   CI        PID   Type   Process name                  GPU Memory |\n",
      "|        ID   ID                                                   Usage      |\n",
      "|=============================================================================|\n",
      "+-----------------------------------------------------------------------------+\n"
     ]
    }
   ],
   "source": [
    "!nvidia-smi"
   ]
  },
  {
   "cell_type": "code",
   "execution_count": 2,
   "metadata": {},
   "outputs": [],
   "source": [
    "import os\n",
    "import numpy as np\n",
    "import pandas as pd\n",
    "import random\n",
    "import gc\n",
    "import cv2\n",
    "import matplotlib.pyplot as plt\n",
    "import time\n",
    "\n",
    "import timm\n",
    "from timm import utils\n",
    "\n",
    "from torch.cuda.amp import autocast, GradScaler\n",
    "from torch.utils.data import Dataset, DataLoader, RandomSampler\n",
    "from torch.optim.lr_scheduler import CosineAnnealingWarmRestarts, OneCycleLR, CosineAnnealingLR, ReduceLROnPlateau, StepLR, LambdaLR\n",
    "\n",
    "import torch\n",
    "import torchvision\n",
    "import torch.nn as nn\n",
    "import torch.nn.functional as F\n",
    "import torch.optim as optim\n",
    "\n",
    "import imageio\n",
    "from PIL import Image\n",
    "from tqdm.notebook import tqdm\n",
    "\n",
    "# from sklearn.model_selection import StratifiedKFold\n",
    "from sklearn.metrics import accuracy_score\n"
   ]
  },
  {
   "cell_type": "markdown",
   "metadata": {},
   "source": [
    "# setting"
   ]
  },
  {
   "cell_type": "code",
   "execution_count": 3,
   "metadata": {},
   "outputs": [],
   "source": [
    "DEBUG = False"
   ]
  },
  {
   "cell_type": "code",
   "execution_count": 4,
   "metadata": {},
   "outputs": [
    {
     "name": "stdout",
     "output_type": "stream",
     "text": [
      "cuda\n"
     ]
    }
   ],
   "source": [
    "class CFG:\n",
    "    EXP = \"eff_b5_ap_bce\"\n",
    "\n",
    "    # model\n",
    "    # model_path = \"swint_large224\" #effnetでやってみる？\n",
    "    # model_path =  \"tf_efficientnet_b7_ap\"\n",
    "    model_path =  \"tf_efficientnet_b5_ap\"\n",
    "    MODEL_SAVE_DIR = f\"/workdir/work/output/{EXP}\"\n",
    "    out_features = 4 # output class\n",
    "    inp_channels = 3 #RGB -> 3\n",
    "    dropout = 0\n",
    "    pretrained = True\n",
    "\n",
    "    # train, valid\n",
    "    # TRAIN_CSV = \"/workdir/work/output/saved_train_images.csv\"\n",
    "    TRAIN_IMG_DIR = \"/workdir/work/output/train_images\"\n",
    "    TRAIN_CSV = \"/workdir/work/output/saved_train_event4images.csv\"\n",
    "    TRAIN_IMG_DIR = \"/workdir/work/output/event4image\"\n",
    "    n_fold = 5\n",
    "    random_seed = 42\n",
    "    batch_size = 8\n",
    "    # batch_size = 16\n",
    "    num_workers = 8\n",
    "    n_epoch = 100\n",
    "    early_stopping_rounds = 5\n",
    "    TRAIN_FOLD = [0, 1, 2, 3, 4]\n",
    "\n",
    "    img_height = 224\n",
    "    img_width = 224\n",
    "    if model_path == \"efficientnet_b8\":\n",
    "        img_height = 672\n",
    "        img_width = 672\n",
    "    elif model_path == \"tf_efficientnet_b7_ap\":\n",
    "        img_height = 600\n",
    "        img_width = 600\n",
    "    elif model_path == \"tf_efficientnet_b5_ap\":\n",
    "        img_height = 456\n",
    "        img_width = 456\n",
    "        \n",
    "    #optimizer\n",
    "    gradient_accumulation_steps = 1\n",
    "    max_grad_norm = 1000\n",
    "    opt_eps = 1e-5\n",
    "    # lr = 1e-6\n",
    "    lr = 1e-5\n",
    "    opt_wd_non_norm_bias = 0.01\n",
    "    opt_wd_norm_bias = 0\n",
    "\n",
    "    #scheduler\n",
    "    scheduler_name = \"CosineAnnealingWarmRestarts\"\n",
    "    # scheduler_name = \"OneCycleLR\"\n",
    "    T_0 = 5\n",
    "    # min_lr = 1e-7\n",
    "    # max_lr = 1e-5\n",
    "    min_lr = 1e-7\n",
    "    max_lr = 1e-4\n",
    "    T_max = 5\n",
    "\n",
    "    seed = 42\n",
    "\n",
    "    if DEBUG:\n",
    "        n_epoch = 1\n",
    "        TRAIN_FOLD = [0, 1]\n",
    "\n",
    "if torch.cuda.is_available():\n",
    "    device = torch.device('cuda')\n",
    "else:\n",
    "    device = torch.device('cpu')\n",
    "CFG.device = device\n",
    "print(device)\n",
    "\n"
   ]
  },
  {
   "cell_type": "markdown",
   "metadata": {},
   "source": [
    "# Logger"
   ]
  },
  {
   "cell_type": "code",
   "execution_count": 5,
   "metadata": {},
   "outputs": [],
   "source": [
    "# save trained model in this dir\n",
    "if not os.path.exists(CFG.MODEL_SAVE_DIR):\n",
    "    os.makedirs(CFG.MODEL_SAVE_DIR)"
   ]
  },
  {
   "cell_type": "code",
   "execution_count": 6,
   "metadata": {},
   "outputs": [
    {
     "name": "stderr",
     "output_type": "stream",
     "text": [
      "EXP NAME = eff_b5_ap_bce\n",
      "Model = tf_efficientnet_b5_ap, (height, width) = (456, 456)\n"
     ]
    }
   ],
   "source": [
    "def init_logger(log_file=f'{CFG.MODEL_SAVE_DIR}/train_{CFG.EXP}.log'):\n",
    "    \"\"\"Output Log.\"\"\"\n",
    "    from logging import getLogger, INFO, FileHandler,  Formatter,  StreamHandler\n",
    "    logger = getLogger(__name__)\n",
    "    logger.setLevel(INFO)\n",
    "    handler1 = StreamHandler()\n",
    "    handler1.setFormatter(Formatter(\"%(message)s\"))\n",
    "    handler2 = FileHandler(filename=log_file)\n",
    "    handler2.setFormatter(Formatter(\"%(message)s\"))\n",
    "    logger.addHandler(handler1)\n",
    "    logger.addHandler(handler2)\n",
    "    return logger\n",
    "LOGGER = init_logger()\n",
    "LOGGER.info(f\"EXP NAME = {CFG.EXP}\")\n",
    "LOGGER.info(f\"Model = {CFG.model_path}, (height, width) = ({CFG.img_height}, {CFG.img_width})\")"
   ]
  },
  {
   "cell_type": "code",
   "execution_count": 7,
   "metadata": {},
   "outputs": [],
   "source": [
    "class AverageMeter(object):\n",
    "    \"\"\"Computes and stores the average and current value.\"\"\"\n",
    "    def __init__(self):\n",
    "        self.reset()\n",
    "\n",
    "    def reset(self):\n",
    "        self.val = 0\n",
    "        self.avg = 0\n",
    "        self.sum = 0\n",
    "        self.count = 0\n",
    "\n",
    "    def update(self, val, n=1):\n",
    "        self.val = val\n",
    "        self.sum += val * n\n",
    "        self.count += n\n",
    "        self.avg = self.sum / self.count"
   ]
  },
  {
   "cell_type": "markdown",
   "metadata": {},
   "source": [
    "# Seed"
   ]
  },
  {
   "cell_type": "code",
   "execution_count": 8,
   "metadata": {},
   "outputs": [],
   "source": [
    "def seed_torch(seed=0):\n",
    "    \"\"\"Fixed seed value.\"\"\"\n",
    "    random.seed(seed)\n",
    "    os.environ['PYTHONHASHSEED'] = str(seed)\n",
    "    np.random.seed(seed)\n",
    "    torch.manual_seed(seed)\n",
    "    torch.cuda.manual_seed(seed)\n",
    "    torch.backends.cudnn.deterministic = True\n",
    "\n",
    "seed_torch(seed=CFG.seed)"
   ]
  },
  {
   "cell_type": "markdown",
   "metadata": {},
   "source": [
    "# Read Data"
   ]
  },
  {
   "cell_type": "code",
   "execution_count": 9,
   "metadata": {
    "execution": {
     "iopub.execute_input": "2022-08-14T13:46:56.464484Z",
     "iopub.status.busy": "2022-08-14T13:46:56.46364Z",
     "iopub.status.idle": "2022-08-14T13:46:56.562918Z",
     "shell.execute_reply": "2022-08-14T13:46:56.561751Z",
     "shell.execute_reply.started": "2022-08-14T13:46:56.464445Z"
    }
   },
   "outputs": [
    {
     "data": {
      "text/html": [
       "<div>\n",
       "<style scoped>\n",
       "    .dataframe tbody tr th:only-of-type {\n",
       "        vertical-align: middle;\n",
       "    }\n",
       "\n",
       "    .dataframe tbody tr th {\n",
       "        vertical-align: top;\n",
       "    }\n",
       "\n",
       "    .dataframe thead th {\n",
       "        text-align: right;\n",
       "    }\n",
       "</style>\n",
       "<table border=\"1\" class=\"dataframe\">\n",
       "  <thead>\n",
       "    <tr style=\"text-align: right;\">\n",
       "      <th></th>\n",
       "      <th>video_id</th>\n",
       "      <th>frame</th>\n",
       "      <th>time</th>\n",
       "      <th>event</th>\n",
       "    </tr>\n",
       "  </thead>\n",
       "  <tbody>\n",
       "    <tr>\n",
       "      <th>0</th>\n",
       "      <td>1606b0e6_0</td>\n",
       "      <td>5005</td>\n",
       "      <td>200.20</td>\n",
       "      <td>background</td>\n",
       "    </tr>\n",
       "    <tr>\n",
       "      <th>1</th>\n",
       "      <td>1606b0e6_0</td>\n",
       "      <td>5028</td>\n",
       "      <td>201.12</td>\n",
       "      <td>challenge</td>\n",
       "    </tr>\n",
       "    <tr>\n",
       "      <th>2</th>\n",
       "      <td>1606b0e6_0</td>\n",
       "      <td>5070</td>\n",
       "      <td>202.80</td>\n",
       "      <td>background</td>\n",
       "    </tr>\n",
       "    <tr>\n",
       "      <th>3</th>\n",
       "      <td>1606b0e6_0</td>\n",
       "      <td>5252</td>\n",
       "      <td>210.08</td>\n",
       "      <td>background</td>\n",
       "    </tr>\n",
       "    <tr>\n",
       "      <th>4</th>\n",
       "      <td>1606b0e6_0</td>\n",
       "      <td>5271</td>\n",
       "      <td>210.84</td>\n",
       "      <td>challenge</td>\n",
       "    </tr>\n",
       "    <tr>\n",
       "      <th>...</th>\n",
       "      <td>...</td>\n",
       "      <td>...</td>\n",
       "      <td>...</td>\n",
       "      <td>...</td>\n",
       "    </tr>\n",
       "    <tr>\n",
       "      <th>11177</th>\n",
       "      <td>ecf251d4_0</td>\n",
       "      <td>76414</td>\n",
       "      <td>3056.56</td>\n",
       "      <td>challenge</td>\n",
       "    </tr>\n",
       "    <tr>\n",
       "      <th>11178</th>\n",
       "      <td>ecf251d4_0</td>\n",
       "      <td>76452</td>\n",
       "      <td>3058.08</td>\n",
       "      <td>background</td>\n",
       "    </tr>\n",
       "    <tr>\n",
       "      <th>11179</th>\n",
       "      <td>ecf251d4_0</td>\n",
       "      <td>76706</td>\n",
       "      <td>3068.24</td>\n",
       "      <td>background</td>\n",
       "    </tr>\n",
       "    <tr>\n",
       "      <th>11180</th>\n",
       "      <td>ecf251d4_0</td>\n",
       "      <td>76738</td>\n",
       "      <td>3069.52</td>\n",
       "      <td>throwin</td>\n",
       "    </tr>\n",
       "    <tr>\n",
       "      <th>11181</th>\n",
       "      <td>ecf251d4_0</td>\n",
       "      <td>76770</td>\n",
       "      <td>3070.80</td>\n",
       "      <td>background</td>\n",
       "    </tr>\n",
       "  </tbody>\n",
       "</table>\n",
       "<p>11182 rows × 4 columns</p>\n",
       "</div>"
      ],
      "text/plain": [
       "         video_id  frame     time       event\n",
       "0      1606b0e6_0   5005   200.20  background\n",
       "1      1606b0e6_0   5028   201.12   challenge\n",
       "2      1606b0e6_0   5070   202.80  background\n",
       "3      1606b0e6_0   5252   210.08  background\n",
       "4      1606b0e6_0   5271   210.84   challenge\n",
       "...           ...    ...      ...         ...\n",
       "11177  ecf251d4_0  76414  3056.56   challenge\n",
       "11178  ecf251d4_0  76452  3058.08  background\n",
       "11179  ecf251d4_0  76706  3068.24  background\n",
       "11180  ecf251d4_0  76738  3069.52     throwin\n",
       "11181  ecf251d4_0  76770  3070.80  background\n",
       "\n",
       "[11182 rows x 4 columns]"
      ]
     },
     "metadata": {},
     "output_type": "display_data"
    }
   ],
   "source": [
    "train_df = pd.read_csv(CFG.TRAIN_CSV)\n",
    "display(train_df)"
   ]
  },
  {
   "cell_type": "markdown",
   "metadata": {},
   "source": [
    "# Dataset"
   ]
  },
  {
   "cell_type": "code",
   "execution_count": 10,
   "metadata": {},
   "outputs": [],
   "source": [
    "event_encoding = {\n",
    "    \"background\" : 0,\n",
    "    \"challenge\" : 1,\n",
    "    \"play\" : 2,\n",
    "    \"throwin\" : 3,\n",
    "}\n"
   ]
  },
  {
   "cell_type": "code",
   "execution_count": 11,
   "metadata": {},
   "outputs": [],
   "source": [
    "class DFLDataset(Dataset):\n",
    "    def __init__(self, video_id, frame, targets, transform=None):\n",
    "        self.video_id = video_id\n",
    "        self.frame = frame\n",
    "        self.targets = targets\n",
    "        # self.transform = transform\n",
    "    \n",
    "    def __len__(self):\n",
    "        return len(self.targets)\n",
    "\n",
    "    def __getitem__(self, idx):\n",
    "        image_path = f\"{CFG.TRAIN_IMG_DIR}/{self.video_id[idx]}_{self.frame[idx]:06}.jpg\"\n",
    "        image = cv2.imread(image_path)\n",
    "        image = cv2.cvtColor(image, cv2.COLOR_BGR2RGB)\n",
    "        image = cv2.resize(image, dsize=(CFG.img_height, CFG.img_width))\n",
    "        image = image / 255 # convert to 0-1\n",
    "        image = np.transpose(image, (2, 0, 1)).astype(np.float32)\n",
    "        # if self.transform is not None:\n",
    "        #     image = self.transform(image = image)[\"image\"]\n",
    "        target = event_encoding[self.targets[idx]]\n",
    "\n",
    "        # image = torch.tensor(image, dtype = torch.float)\n",
    "        # target = torch.tensor(target)\n",
    "        # target = torch.tensor(target, dtype = torch.float)\n",
    "        return image, target"
   ]
  },
  {
   "cell_type": "markdown",
   "metadata": {},
   "source": [
    "# Model"
   ]
  },
  {
   "cell_type": "code",
   "execution_count": 12,
   "metadata": {},
   "outputs": [],
   "source": [
    "# class DFLNet(nn.Module):\n",
    "#     def __init__(self, model_name=CFG.model_path, \n",
    "#                  out_features=CFG.out_features, inp_channels=CFG.inp_channels,\n",
    "#                  pretrained=CFG.pretrained):\n",
    "#         super().__init__()\n",
    "#         self.model = timm.create_model(model_name, pretrained=pretrained, in_chans=inp_channels)\n",
    "#         n_features = self.model.head.in_features\n",
    "#         self.model.head = nn.Linear(n_features, 128)\n",
    "#         self.fc = nn.Sequential(\n",
    "#             nn.Linear(128, 64),\n",
    "#             nn.ReLU(),\n",
    "#             nn.Dropout(0.5),\n",
    "#             nn.Linear(64, out_features)\n",
    "#         )\n",
    "#         self.dropout = nn.Dropout(CFG.dropout)\n",
    "    \n",
    "#     def forward(self, image):\n",
    "#         embeddings = self.model(image)\n",
    "#         x = self.dropout(embeddings)\n",
    "#         output = self.fc(x)\n",
    "#         return output"
   ]
  },
  {
   "cell_type": "code",
   "execution_count": 13,
   "metadata": {},
   "outputs": [],
   "source": [
    "class DFLNet(nn.Module):\n",
    "    def __init__(self, model_name=CFG.model_path, \n",
    "                 out_features=CFG.out_features, inp_channels=CFG.inp_channels,\n",
    "                 pretrained=CFG.pretrained):\n",
    "        super().__init__()\n",
    "        self.model = timm.create_model(model_name, pretrained=pretrained, in_chans=inp_channels, num_classes=out_features)\n",
    "    \n",
    "    def forward(self, image):\n",
    "        output = self.model(image)\n",
    "        return output"
   ]
  },
  {
   "cell_type": "markdown",
   "metadata": {},
   "source": [
    "# Loss"
   ]
  },
  {
   "cell_type": "code",
   "execution_count": 14,
   "metadata": {},
   "outputs": [],
   "source": [
    "class FocalLoss(nn.Module):\n",
    "    def __init__(self, alpha= 0.25, gamma=2.0, eps=1e-7):\n",
    "        super(FocalLoss, self).__init__()\n",
    "        self.gamma = gamma\n",
    "        self.alpha = alpha\n",
    "        self.eps = eps\n",
    "        self.ce = torch.nn.CrossEntropyLoss(reduction=\"none\")\n",
    "\n",
    "    def forward(self, input, target):\n",
    "        logp = self.ce(input, target)\n",
    "        p = torch.exp(-logp)\n",
    "        loss = self.alpha * ((1 - p) ** self.gamma) * logp\n",
    "        return loss.mean()"
   ]
  },
  {
   "cell_type": "markdown",
   "metadata": {},
   "source": [
    "# optimizer"
   ]
  },
  {
   "cell_type": "code",
   "execution_count": 15,
   "metadata": {},
   "outputs": [],
   "source": [
    "def get_optimizer_params(model, encoder_lr, decoder_lr, weight_decay=0.0):\n",
    "    param_optimizer = list(model.named_parameters())\n",
    "    no_decay = [\"bias\", \"LayerNorm.bias\", \"LayerNorm.weight\"]\n",
    "    optimizer_parameters = [\n",
    "        {'params': [p for n, p in model.model.named_parameters() if not any(nd in n for nd in no_decay)],\n",
    "            'lr': encoder_lr, 'weight_decay': weight_decay},\n",
    "        {'params': [p for n, p in model.model.named_parameters() if any(nd in n for nd in no_decay)],\n",
    "            'lr': encoder_lr, 'weight_decay': 0.0},\n",
    "        {'params': [p for n, p in model.named_parameters() if \"model\" not in n],\n",
    "            'lr': decoder_lr, 'weight_decay': 0.0}\n",
    "    ]\n",
    "    return optimizer_parameters"
   ]
  },
  {
   "cell_type": "code",
   "execution_count": 16,
   "metadata": {},
   "outputs": [],
   "source": [
    "def get_scheduler(optimizer):\n",
    "    scheduler = None\n",
    "    if CFG.scheduler_name == 'CosineAnnealingWarmRestarts':\n",
    "        scheduler = CosineAnnealingWarmRestarts(\n",
    "            optimizer,\n",
    "            T_0 = CFG.T_0,\n",
    "            eta_min = CFG.min_lr,\n",
    "            last_epoch=-1\n",
    "        )\n",
    "    elif CFG.scheduler_name == 'OneCycleLR':\n",
    "        scheduler = OneCycleLR(\n",
    "            optimizer,\n",
    "            max_lr = CFG.max_lr,\n",
    "            steps_per_epoch = int( ( (CFG.n_fold-1) * train_df.shape[0]) / (CFG.n_fold * CFG.batch_size) ) + 1,\n",
    "            epochs = CFG.n_epoch,\n",
    "        )\n",
    "\n",
    "    elif CFG.scheduler_name == 'CosineAnnealingLR':\n",
    "        scheduler = CosineAnnealingLR(\n",
    "            optimizer,\n",
    "            T_max = CFG.T_max,\n",
    "            eta_min = CFG.min_lr,\n",
    "            last_epoch = -1\n",
    "        )\n",
    "    \n",
    "    return scheduler"
   ]
  },
  {
   "cell_type": "code",
   "execution_count": 17,
   "metadata": {},
   "outputs": [],
   "source": [
    "def divice_norm_bias(model): \n",
    "    norm_bias_params = []\n",
    "    non_norm_bias_params = []\n",
    "    except_wd_layers = ['norm', '.bias']\n",
    "    for n, p in model.model.named_parameters():\n",
    "        if any([nd in n for nd in except_wd_layers]):\n",
    "            norm_bias_params.append(p)\n",
    "        else:\n",
    "            non_norm_bias_params.append(p)\n",
    "    return norm_bias_params, non_norm_bias_params"
   ]
  },
  {
   "cell_type": "markdown",
   "metadata": {},
   "source": [
    "# Train function"
   ]
  },
  {
   "cell_type": "code",
   "execution_count": 18,
   "metadata": {},
   "outputs": [],
   "source": [
    "def train_fn(train_loader, model, criterion, optimizer, epoch, scheduler=None, scaler=None):\n",
    "    model.train()\n",
    "    stream = tqdm(train_loader)\n",
    "    losses = AverageMeter()\n",
    "    global_step = 0\n",
    "\n",
    "    for step, (images, targets) in enumerate(stream, start=1):\n",
    "        images = images.to(CFG.device, non_blocking=True)\n",
    "        targets = targets.to(CFG.device, non_blocking=True)\n",
    "        batch_size = targets.size(0) \n",
    "\n",
    "        preds = model(images)\n",
    "        loss = criterion(preds, targets)\n",
    "        if CFG.gradient_accumulation_steps > 1:\n",
    "            loss = loss / CFG.gradient_accumulation_steps\n",
    "            loss.backward()\n",
    "        else:\n",
    "            loss.backward()\n",
    "        losses.update(loss.item(), batch_size) \n",
    "        if scheduler is not None:\n",
    "            scheduler.step()\n",
    "            # scheduler.step_update(num_updates=step, metric=losses.avg)\n",
    "\n",
    "        grad_norm = torch.nn.utils.clip_grad_norm_(model.parameters(), CFG.max_grad_norm)\n",
    "        if (step + 1) % CFG.gradient_accumulation_steps == 0:\n",
    "            optimizer.step()\n",
    "            optimizer.zero_grad()\n",
    "            global_step += 1\n",
    "\n",
    "    return losses.avg"
   ]
  },
  {
   "cell_type": "markdown",
   "metadata": {},
   "source": [
    "# Valid function"
   ]
  },
  {
   "cell_type": "code",
   "execution_count": 19,
   "metadata": {},
   "outputs": [],
   "source": [
    "def valid_fn(val_loader, model, criterion, epoch):\n",
    "    model.eval()\n",
    "    stream = tqdm(val_loader)\n",
    "    \n",
    "    losses = AverageMeter()\n",
    "    top1_m = AverageMeter()\n",
    "    top5_m = AverageMeter()\n",
    "    \n",
    "    final_targets = []\n",
    "    final_preds = []\n",
    "    \n",
    "    with torch.no_grad():\n",
    "        for i, (images, targets) in enumerate(stream, start=1):\n",
    "            images = images.to(CFG.device, non_blocking=True)\n",
    "            targets = targets.to(CFG.device, non_blocking=True)\n",
    "            batch_size = targets.size(0)\n",
    "            preds = model(images)\n",
    "\n",
    "            loss = criterion(preds, targets)\n",
    "            acc1, acc5 = utils.accuracy(preds, targets, topk=(1, 5))\n",
    "\n",
    "            losses.update(loss.item(), batch_size)\n",
    "            top1_m.update(acc1.item(), batch_size)\n",
    "            top5_m.update(acc5.item(), batch_size)\n",
    "\n",
    "            targets_list = (targets.detach().cpu().numpy()).tolist()\n",
    "            # preds_list = (torch.sigmoid(preds).detach().cpu().numpy()).tolist()\n",
    "            # preds_list = [score_onehot_inv[pred_idx] for pred_idx in torch.argmax(preds, dim=1).tolist()]\n",
    "            preds_list = torch.argmax(preds, dim=1).tolist()\n",
    "            \n",
    "            final_targets.extend(targets_list)\n",
    "            final_preds.extend(preds_list)\n",
    "    return losses.avg, top1_m.avg, top5_m.avg, final_preds, final_targets"
   ]
  },
  {
   "cell_type": "markdown",
   "metadata": {},
   "source": [
    "# Train"
   ]
  },
  {
   "cell_type": "code",
   "execution_count": 20,
   "metadata": {},
   "outputs": [
    {
     "name": "stderr",
     "output_type": "stream",
     "text": [
      "train_videos ['1606b0e6_0' '1606b0e6_1' '35bd9041_0' '35bd9041_1' '3c993bd2_0'\n",
      " '3c993bd2_1' '407c5a9e_1' '4ffd5986_0' '9a97dae4_1' 'cfbe2e94_0']\n",
      "valid_videos ['cfbe2e94_1' 'ecf251d4_0']\n"
     ]
    }
   ],
   "source": [
    "train_valid_videos = train_df[\"video_id\"].unique()\n",
    "train_videos = train_valid_videos[:10]\n",
    "valid_videos = train_valid_videos[10:]\n",
    "if DEBUG:\n",
    "    train_videos = [train_videos[0]]\n",
    "    valid_videos = [valid_videos[0]]\n",
    "LOGGER.info(f\"train_videos {train_videos}\")\n",
    "LOGGER.info(f\"valid_videos {valid_videos}\")"
   ]
  },
  {
   "cell_type": "markdown",
   "metadata": {},
   "source": [
    "## set dataset"
   ]
  },
  {
   "cell_type": "code",
   "execution_count": 21,
   "metadata": {},
   "outputs": [],
   "source": [
    "# separate train/valid data \n",
    "X_train_videoid = train_df[train_df[\"video_id\"].isin(train_videos)][\"video_id\"].values\n",
    "X_train_frame = train_df[train_df[\"video_id\"].isin(train_videos)][\"frame\"].values\n",
    "y_train = train_df[train_df[\"video_id\"].isin(train_videos)][\"event\"].values\n",
    "\n",
    "X_valid_videoid = train_df[train_df[\"video_id\"].isin(valid_videos)][\"video_id\"].values\n",
    "X_valid_frame = train_df[train_df[\"video_id\"].isin(valid_videos)][\"frame\"].values\n",
    "y_valid = train_df[train_df[\"video_id\"].isin(valid_videos)][\"event\"].values"
   ]
  },
  {
   "cell_type": "code",
   "execution_count": 22,
   "metadata": {},
   "outputs": [],
   "source": [
    "# prepare dataset\n",
    "train_dataset = DFLDataset(video_id= X_train_videoid, frame=X_train_frame, targets = y_train)\n",
    "valid_dataset = DFLDataset(video_id= X_valid_videoid, frame=X_valid_frame, targets = y_valid)\n",
    "\n",
    "# create dataloader\n",
    "train_loader = DataLoader(train_dataset,\n",
    "                        batch_size = CFG.batch_size,\n",
    "                        shuffle = False,\n",
    "                        num_workers = CFG.num_workers)\n",
    "valid_loader = DataLoader(valid_dataset,\n",
    "                        batch_size = CFG.batch_size,\n",
    "                        shuffle = False,\n",
    "                        num_workers = CFG.num_workers)"
   ]
  },
  {
   "cell_type": "code",
   "execution_count": 23,
   "metadata": {},
   "outputs": [],
   "source": [
    "# instantiate model, cost function and optimizer\n",
    "model = DFLNet()\n",
    "model = model.to(device)\n",
    "\n",
    "norm_bias_params, non_norm_bias_params = divice_norm_bias(model)\n",
    "# criterion = FocalLoss()\n",
    "# criterion = nn.CrossEntropyLoss()\n",
    "criterion = nn.BCELoss()\n",
    "\n",
    "#print(f\"norm bias params: {len(norm_bias_params)}, non norm bias params: {len(non_norm_bias_params)}\")\n",
    "optimizer = torch.optim.AdamW(\n",
    "    [\n",
    "        {'params': norm_bias_params, 'weight_decay': CFG.opt_wd_norm_bias},\n",
    "        {'params': non_norm_bias_params, 'weight_decay': CFG.opt_wd_non_norm_bias},\n",
    "    ],\n",
    "    eps = CFG.opt_eps,\n",
    "    lr = CFG.lr,\n",
    "    amsgrad = False\n",
    ")\n",
    "\n",
    "# load scaler\n",
    "scheduler = get_scheduler(optimizer)\n",
    "scaler = GradScaler()\n",
    "\n"
   ]
  },
  {
   "cell_type": "code",
   "execution_count": 24,
   "metadata": {},
   "outputs": [
    {
     "name": "stdout",
     "output_type": "stream",
     "text": [
      "Tue Sep 13 06:41:09 2022       \n",
      "+-----------------------------------------------------------------------------+\n",
      "| NVIDIA-SMI 515.65.01    Driver Version: 515.65.01    CUDA Version: 11.7     |\n",
      "|-------------------------------+----------------------+----------------------+\n",
      "| GPU  Name        Persistence-M| Bus-Id        Disp.A | Volatile Uncorr. ECC |\n",
      "| Fan  Temp  Perf  Pwr:Usage/Cap|         Memory-Usage | GPU-Util  Compute M. |\n",
      "|                               |                      |               MIG M. |\n",
      "|===============================+======================+======================|\n",
      "|   0  NVIDIA GeForce ...  On   | 00000000:01:00.0  On |                  N/A |\n",
      "| 44%   55C    P2   117W / 350W |  10664MiB / 24576MiB |      4%      Default |\n",
      "|                               |                      |                  N/A |\n",
      "+-------------------------------+----------------------+----------------------+\n",
      "                                                                               \n",
      "+-----------------------------------------------------------------------------+\n",
      "| Processes:                                                                  |\n",
      "|  GPU   GI   CI        PID   Type   Process name                  GPU Memory |\n",
      "|        ID   ID                                                   Usage      |\n",
      "|=============================================================================|\n",
      "+-----------------------------------------------------------------------------+\n"
     ]
    }
   ],
   "source": [
    "!nvidia-smi"
   ]
  },
  {
   "cell_type": "code",
   "execution_count": 25,
   "metadata": {},
   "outputs": [
    {
     "data": {
      "application/vnd.jupyter.widget-view+json": {
       "model_id": "549b5a114b2540d0a5bee1504fa0acf3",
       "version_major": 2,
       "version_minor": 0
      },
      "text/plain": [
       "  0%|          | 0/1181 [00:00<?, ?it/s]"
      ]
     },
     "metadata": {},
     "output_type": "display_data"
    },
    {
     "ename": "ValueError",
     "evalue": "Using a target size (torch.Size([8])) that is different to the input size (torch.Size([8, 4])) is deprecated. Please ensure they have the same size.",
     "output_type": "error",
     "traceback": [
      "\u001b[0;31m---------------------------------------------------------------------------\u001b[0m",
      "\u001b[0;31mValueError\u001b[0m                                Traceback (most recent call last)",
      "\u001b[0;32m/tmp/ipykernel_261323/762602867.py\u001b[0m in \u001b[0;36m<module>\u001b[0;34m\u001b[0m\n\u001b[1;32m      5\u001b[0m \u001b[0mstart_time\u001b[0m \u001b[0;34m=\u001b[0m \u001b[0mtime\u001b[0m\u001b[0;34m.\u001b[0m\u001b[0mtime\u001b[0m\u001b[0;34m(\u001b[0m\u001b[0;34m)\u001b[0m\u001b[0;34m\u001b[0m\u001b[0;34m\u001b[0m\u001b[0m\n\u001b[1;32m      6\u001b[0m \u001b[0;32mfor\u001b[0m \u001b[0mepoch\u001b[0m \u001b[0;32min\u001b[0m \u001b[0mrange\u001b[0m\u001b[0;34m(\u001b[0m\u001b[0;36m1\u001b[0m\u001b[0;34m,\u001b[0m \u001b[0mCFG\u001b[0m\u001b[0;34m.\u001b[0m\u001b[0mn_epoch\u001b[0m \u001b[0;34m+\u001b[0m \u001b[0;36m1\u001b[0m\u001b[0;34m)\u001b[0m\u001b[0;34m:\u001b[0m\u001b[0;34m\u001b[0m\u001b[0;34m\u001b[0m\u001b[0m\n\u001b[0;32m----> 7\u001b[0;31m     \u001b[0mtrain_avg_loss\u001b[0m \u001b[0;34m=\u001b[0m \u001b[0mtrain_fn\u001b[0m\u001b[0;34m(\u001b[0m\u001b[0mtrain_loader\u001b[0m\u001b[0;34m,\u001b[0m \u001b[0mmodel\u001b[0m\u001b[0;34m,\u001b[0m \u001b[0mcriterion\u001b[0m\u001b[0;34m,\u001b[0m \u001b[0moptimizer\u001b[0m\u001b[0;34m,\u001b[0m \u001b[0mepoch\u001b[0m\u001b[0;34m,\u001b[0m \u001b[0mscheduler\u001b[0m\u001b[0;34m,\u001b[0m \u001b[0mscaler\u001b[0m\u001b[0;34m)\u001b[0m\u001b[0;34m\u001b[0m\u001b[0;34m\u001b[0m\u001b[0m\n\u001b[0m\u001b[1;32m      8\u001b[0m     \u001b[0mvalid_avg_loss\u001b[0m\u001b[0;34m,\u001b[0m \u001b[0mtop1_avg_acc\u001b[0m\u001b[0;34m,\u001b[0m \u001b[0mtop5_avg_acc\u001b[0m\u001b[0;34m,\u001b[0m \u001b[0mpreds\u001b[0m\u001b[0;34m,\u001b[0m \u001b[0mtargets\u001b[0m \u001b[0;34m=\u001b[0m \u001b[0mvalid_fn\u001b[0m\u001b[0;34m(\u001b[0m\u001b[0mvalid_loader\u001b[0m\u001b[0;34m,\u001b[0m \u001b[0mmodel\u001b[0m\u001b[0;34m,\u001b[0m \u001b[0mcriterion\u001b[0m\u001b[0;34m,\u001b[0m \u001b[0mepoch\u001b[0m\u001b[0;34m)\u001b[0m\u001b[0;34m\u001b[0m\u001b[0;34m\u001b[0m\u001b[0m\n\u001b[1;32m      9\u001b[0m     \u001b[0maccuracy\u001b[0m \u001b[0;34m=\u001b[0m \u001b[0maccuracy_score\u001b[0m\u001b[0;34m(\u001b[0m\u001b[0mtargets\u001b[0m\u001b[0;34m,\u001b[0m \u001b[0mpreds\u001b[0m\u001b[0;34m)\u001b[0m\u001b[0;34m\u001b[0m\u001b[0;34m\u001b[0m\u001b[0m\n",
      "\u001b[0;32m/tmp/ipykernel_261323/1784679598.py\u001b[0m in \u001b[0;36mtrain_fn\u001b[0;34m(train_loader, model, criterion, optimizer, epoch, scheduler, scaler)\u001b[0m\n\u001b[1;32m     11\u001b[0m \u001b[0;34m\u001b[0m\u001b[0m\n\u001b[1;32m     12\u001b[0m         \u001b[0mpreds\u001b[0m \u001b[0;34m=\u001b[0m \u001b[0mmodel\u001b[0m\u001b[0;34m(\u001b[0m\u001b[0mimages\u001b[0m\u001b[0;34m)\u001b[0m\u001b[0;34m\u001b[0m\u001b[0;34m\u001b[0m\u001b[0m\n\u001b[0;32m---> 13\u001b[0;31m         \u001b[0mloss\u001b[0m \u001b[0;34m=\u001b[0m \u001b[0mcriterion\u001b[0m\u001b[0;34m(\u001b[0m\u001b[0mpreds\u001b[0m\u001b[0;34m,\u001b[0m \u001b[0mtargets\u001b[0m\u001b[0;34m)\u001b[0m\u001b[0;34m\u001b[0m\u001b[0;34m\u001b[0m\u001b[0m\n\u001b[0m\u001b[1;32m     14\u001b[0m         \u001b[0;32mif\u001b[0m \u001b[0mCFG\u001b[0m\u001b[0;34m.\u001b[0m\u001b[0mgradient_accumulation_steps\u001b[0m \u001b[0;34m>\u001b[0m \u001b[0;36m1\u001b[0m\u001b[0;34m:\u001b[0m\u001b[0;34m\u001b[0m\u001b[0;34m\u001b[0m\u001b[0m\n\u001b[1;32m     15\u001b[0m             \u001b[0mloss\u001b[0m \u001b[0;34m=\u001b[0m \u001b[0mloss\u001b[0m \u001b[0;34m/\u001b[0m \u001b[0mCFG\u001b[0m\u001b[0;34m.\u001b[0m\u001b[0mgradient_accumulation_steps\u001b[0m\u001b[0;34m\u001b[0m\u001b[0;34m\u001b[0m\u001b[0m\n",
      "\u001b[0;32m/opt/conda/lib/python3.7/site-packages/torch/nn/modules/module.py\u001b[0m in \u001b[0;36m_call_impl\u001b[0;34m(self, *input, **kwargs)\u001b[0m\n\u001b[1;32m   1100\u001b[0m         if not (self._backward_hooks or self._forward_hooks or self._forward_pre_hooks or _global_backward_hooks\n\u001b[1;32m   1101\u001b[0m                 or _global_forward_hooks or _global_forward_pre_hooks):\n\u001b[0;32m-> 1102\u001b[0;31m             \u001b[0;32mreturn\u001b[0m \u001b[0mforward_call\u001b[0m\u001b[0;34m(\u001b[0m\u001b[0;34m*\u001b[0m\u001b[0minput\u001b[0m\u001b[0;34m,\u001b[0m \u001b[0;34m**\u001b[0m\u001b[0mkwargs\u001b[0m\u001b[0;34m)\u001b[0m\u001b[0;34m\u001b[0m\u001b[0;34m\u001b[0m\u001b[0m\n\u001b[0m\u001b[1;32m   1103\u001b[0m         \u001b[0;31m# Do not call functions when jit is used\u001b[0m\u001b[0;34m\u001b[0m\u001b[0;34m\u001b[0m\u001b[0;34m\u001b[0m\u001b[0m\n\u001b[1;32m   1104\u001b[0m         \u001b[0mfull_backward_hooks\u001b[0m\u001b[0;34m,\u001b[0m \u001b[0mnon_full_backward_hooks\u001b[0m \u001b[0;34m=\u001b[0m \u001b[0;34m[\u001b[0m\u001b[0;34m]\u001b[0m\u001b[0;34m,\u001b[0m \u001b[0;34m[\u001b[0m\u001b[0;34m]\u001b[0m\u001b[0;34m\u001b[0m\u001b[0;34m\u001b[0m\u001b[0m\n",
      "\u001b[0;32m/opt/conda/lib/python3.7/site-packages/torch/nn/modules/loss.py\u001b[0m in \u001b[0;36mforward\u001b[0;34m(self, input, target)\u001b[0m\n\u001b[1;32m    601\u001b[0m \u001b[0;34m\u001b[0m\u001b[0m\n\u001b[1;32m    602\u001b[0m     \u001b[0;32mdef\u001b[0m \u001b[0mforward\u001b[0m\u001b[0;34m(\u001b[0m\u001b[0mself\u001b[0m\u001b[0;34m,\u001b[0m \u001b[0minput\u001b[0m\u001b[0;34m:\u001b[0m \u001b[0mTensor\u001b[0m\u001b[0;34m,\u001b[0m \u001b[0mtarget\u001b[0m\u001b[0;34m:\u001b[0m \u001b[0mTensor\u001b[0m\u001b[0;34m)\u001b[0m \u001b[0;34m->\u001b[0m \u001b[0mTensor\u001b[0m\u001b[0;34m:\u001b[0m\u001b[0;34m\u001b[0m\u001b[0;34m\u001b[0m\u001b[0m\n\u001b[0;32m--> 603\u001b[0;31m         \u001b[0;32mreturn\u001b[0m \u001b[0mF\u001b[0m\u001b[0;34m.\u001b[0m\u001b[0mbinary_cross_entropy\u001b[0m\u001b[0;34m(\u001b[0m\u001b[0minput\u001b[0m\u001b[0;34m,\u001b[0m \u001b[0mtarget\u001b[0m\u001b[0;34m,\u001b[0m \u001b[0mweight\u001b[0m\u001b[0;34m=\u001b[0m\u001b[0mself\u001b[0m\u001b[0;34m.\u001b[0m\u001b[0mweight\u001b[0m\u001b[0;34m,\u001b[0m \u001b[0mreduction\u001b[0m\u001b[0;34m=\u001b[0m\u001b[0mself\u001b[0m\u001b[0;34m.\u001b[0m\u001b[0mreduction\u001b[0m\u001b[0;34m)\u001b[0m\u001b[0;34m\u001b[0m\u001b[0;34m\u001b[0m\u001b[0m\n\u001b[0m\u001b[1;32m    604\u001b[0m \u001b[0;34m\u001b[0m\u001b[0m\n\u001b[1;32m    605\u001b[0m \u001b[0;34m\u001b[0m\u001b[0m\n",
      "\u001b[0;32m/opt/conda/lib/python3.7/site-packages/torch/nn/functional.py\u001b[0m in \u001b[0;36mbinary_cross_entropy\u001b[0;34m(input, target, weight, size_average, reduce, reduction)\u001b[0m\n\u001b[1;32m   2906\u001b[0m         raise ValueError(\n\u001b[1;32m   2907\u001b[0m             \u001b[0;34m\"Using a target size ({}) that is different to the input size ({}) is deprecated. \"\u001b[0m\u001b[0;34m\u001b[0m\u001b[0;34m\u001b[0m\u001b[0m\n\u001b[0;32m-> 2908\u001b[0;31m             \u001b[0;34m\"Please ensure they have the same size.\"\u001b[0m\u001b[0;34m.\u001b[0m\u001b[0mformat\u001b[0m\u001b[0;34m(\u001b[0m\u001b[0mtarget\u001b[0m\u001b[0;34m.\u001b[0m\u001b[0msize\u001b[0m\u001b[0;34m(\u001b[0m\u001b[0;34m)\u001b[0m\u001b[0;34m,\u001b[0m \u001b[0minput\u001b[0m\u001b[0;34m.\u001b[0m\u001b[0msize\u001b[0m\u001b[0;34m(\u001b[0m\u001b[0;34m)\u001b[0m\u001b[0;34m)\u001b[0m\u001b[0;34m\u001b[0m\u001b[0;34m\u001b[0m\u001b[0m\n\u001b[0m\u001b[1;32m   2909\u001b[0m         )\n\u001b[1;32m   2910\u001b[0m \u001b[0;34m\u001b[0m\u001b[0m\n",
      "\u001b[0;31mValueError\u001b[0m: Using a target size (torch.Size([8])) that is different to the input size (torch.Size([8, 4])) is deprecated. Please ensure they have the same size."
     ]
    }
   ],
   "source": [
    "# train / valid loop\n",
    "best_score = -9999.\n",
    "ealry_stopping_count = 0\n",
    "\n",
    "start_time = time.time()\n",
    "for epoch in range(1, CFG.n_epoch + 1):\n",
    "    train_avg_loss = train_fn(train_loader, model, criterion, optimizer, epoch, scheduler, scaler)\n",
    "    valid_avg_loss, top1_avg_acc, top5_avg_acc, preds, targets = valid_fn(valid_loader, model, criterion, epoch)\n",
    "    accuracy = accuracy_score(targets, preds)\n",
    "    \n",
    "    elapsed = time.time() - start_time\n",
    "    elapsed_min = elapsed/60\n",
    "    LOGGER.info(f\"Epoch {epoch}: Train loss {train_avg_loss:.6f},  Valid loss {valid_avg_loss:.6f}.\")\n",
    "    # LOGGER.info(f\"Accuracy {accuracy:4f}, Acc@1 {top1_avg_acc:4f}, Acc@5 {top5_avg_acc:4f}. elapsed time:{elapsed_min:.1f} min.\")\n",
    "    LOGGER.info(f\"Accuracy {accuracy:4f}. elapsed time:{elapsed_min:.1f} min.\")\n",
    "    if accuracy > best_score:\n",
    "        # if top1_avg_acc > best_score:\n",
    "        LOGGER.info(f\"Model is improved.\")\n",
    "        ealry_stopping_count = 0\n",
    "        best_score = accuracy\n",
    "        # best_score = top1_avg_acc\n",
    "        model_name = CFG.model_path\n",
    "        LOGGER.info(f'{CFG.MODEL_SAVE_DIR}/{model_name}.pth is saved.')\n",
    "        torch.save(model.state_dict(), f'{CFG.MODEL_SAVE_DIR}/{model_name}.pth')\n",
    "\n",
    "    else:\n",
    "        ealry_stopping_count += 1\n",
    "        if ealry_stopping_count >= CFG.early_stopping_rounds:\n",
    "            LOGGER.info(f\"Early stopping. Model is not improved in {CFG.early_stopping_rounds} epochs\")\n",
    "            break\n",
    "del model, train_loader, train_dataset\n",
    "gc.collect()\n",
    "\n",
    "LOGGER.info(\"Learning finished.\")\n",
    "\n",
    "torch.cuda.empty_cache()"
   ]
  },
  {
   "cell_type": "code",
   "execution_count": null,
   "metadata": {},
   "outputs": [],
   "source": []
  },
  {
   "cell_type": "code",
   "execution_count": null,
   "metadata": {},
   "outputs": [],
   "source": []
  }
 ],
 "metadata": {
  "kernelspec": {
   "display_name": "Python 3 (ipykernel)",
   "language": "python",
   "name": "python3"
  },
  "language_info": {
   "codemirror_mode": {
    "name": "ipython",
    "version": 3
   },
   "file_extension": ".py",
   "mimetype": "text/x-python",
   "name": "python",
   "nbconvert_exporter": "python",
   "pygments_lexer": "ipython3",
   "version": "3.7.12"
  },
  "vscode": {
   "interpreter": {
    "hash": "d4d1e4263499bec80672ea0156c357c1ee493ec2b1c70f0acce89fc37c4a6abe"
   }
  }
 },
 "nbformat": 4,
 "nbformat_minor": 4
}
